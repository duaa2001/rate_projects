{
 "cells": [
  {
   "cell_type": "code",
   "execution_count": null,
   "metadata": {},
   "outputs": [],
   "source": [
    "from dotenv import load_dotenv\n",
    "import os\n",
    "from pinecone import Pinecone, ServerlessSpec\n",
    "\n",
    "# Load environment variables from a .env file\n",
    "load_dotenv()\n",
    "\n",
    "\n",
    "\n"
   ]
  },
  {
   "cell_type": "code",
   "execution_count": null,
   "metadata": {},
   "outputs": [],
   "source": [
    "pc = Pinecone(api_key= os.getenv(\"PINECONE_API_KEY\"))\n",
    "try:\n",
    "    pc.create_index(\n",
    "        name=\"rag\",\n",
    "        dimension = 1024,\n",
    "        metric=\"cosine\",\n",
    "        spec=ServerlessSpec(cloud=\"aws\",region=\"us-east-1\")\n",
    "    )\n",
    "except:\n",
    "    pass "
   ]
  },
  {
   "cell_type": "code",
   "execution_count": null,
   "metadata": {},
   "outputs": [],
   "source": [
    "import json\n",
    "data = json.load(open(\"reviews.json\"))\n",
    "\n",
    "data['reviews']"
   ]
  },
  {
   "cell_type": "code",
   "execution_count": null,
   "metadata": {},
   "outputs": [],
   "source": [
    "from mixedbread_ai.client import MixedbreadAI\n",
    "processed_data=[]\n",
    "\n",
    "from openai import OpenAI\n",
    "\n",
    "# Initialize OpenAI client using OpenRouter's base URL and API key from environment variable\n",
    "mxbai = MixedbreadAI(api_key = os.getenv('MIXEDBREAD_API_KEY'))\n",
    "\n",
    "for review in data['reviews'] :\n",
    "    response = mxbai.embeddings(\n",
    "        input = review['comments'],\n",
    "        model = \"mixedbread-ai/mxbai-embed-large-v1\",\n",
    "        normalized = True,\n",
    "        encoding_format = 'float',\n",
    "        truncation_strategy = 'end'\n",
    "    )\n",
    "    embedding = response.data[0].embedding\n",
    "    processed_data.append({\n",
    "        'values': embedding,\n",
    "        'id' : review['name'],\n",
    "        'metadata': {\n",
    "            'review' : review['comments'],\n",
    "            'skills': review['skills'],\n",
    "            'stars': review['stars'] \n",
    "        }   \n",
    "    })"
   ]
  },
  {
   "cell_type": "code",
   "execution_count": null,
   "metadata": {},
   "outputs": [],
   "source": [
    "processed_data[0]"
   ]
  },
  {
   "cell_type": "code",
   "execution_count": null,
   "metadata": {},
   "outputs": [],
   "source": [
    "index = pc.Index('rag')\n",
    "index.upsert(\n",
    "    vectors= processed_data,\n",
    "    namespace = 'ns1'\n",
    ")"
   ]
  }
 ],
 "metadata": {
  "kernelspec": {
   "display_name": "base",
   "language": "python",
   "name": "python3"
  },
  "language_info": {
   "codemirror_mode": {
    "name": "ipython",
    "version": 3
   },
   "file_extension": ".py",
   "mimetype": "text/x-python",
   "name": "python",
   "nbconvert_exporter": "python",
   "pygments_lexer": "ipython3",
   "version": "3.10.14"
  }
 },
 "nbformat": 4,
 "nbformat_minor": 2
}
